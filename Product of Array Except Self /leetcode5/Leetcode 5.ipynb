{
 "cells": [
  {
   "attachments": {},
   "cell_type": "markdown",
   "metadata": {},
   "source": [
    "# 5(238) Product of Array Except self\n",
    "#Given an integer array nums, return an array answer such that answer[i] is equal \n",
    "# to the product of all the elemnets of nums expect nums[i] \n",
    "#the product of any prefix or suffix of nums is guarenteed to fit in a 32 bit integer. \n",
    "#you must write an algorithm that rubs in o(n) time and without using the division operation.\n",
    "#exampke 1: \n",
    "Input: nums = [1,2,3,4]\n",
    "Output: [24,12,8,6]\n",
    "\n",
    "#example 2:\n",
    "Input: nums = [-1, 1, 0, -3, 3]\n",
    "output: [0,0,9,0,0]\n"
   ]
  },
  {
   "cell_type": "code",
   "execution_count": 2,
   "metadata": {},
   "outputs": [],
   "source": [
    "class Solution:\n",
    "    def productExceptSelf(self, nums: list[int]) -> list[int]:\n",
    "        res = [1] * (len (nums))\n",
    "        prefix = 1\n",
    "        for i in range(len (nums)) :\n",
    "            res[i] = prefix\n",
    "            prefix *= nums[i]\n",
    "        postfix = 1\n",
    "        for i in range(len (nums) - 1, -1, -1):\n",
    "            res[i] *= postfix \n",
    "            postfix *= nums[i]\n",
    "        return res"
   ]
  }
 ],
 "metadata": {
  "kernelspec": {
   "display_name": "Python 3",
   "language": "python",
   "name": "python3"
  },
  "language_info": {
   "codemirror_mode": {
    "name": "ipython",
    "version": 3
   },
   "file_extension": ".py",
   "mimetype": "text/x-python",
   "name": "python",
   "nbconvert_exporter": "python",
   "pygments_lexer": "ipython3",
   "version": "3.9.13"
  },
  "orig_nbformat": 4,
  "vscode": {
   "interpreter": {
    "hash": "e47b1a34c05c1e3b83a62d7885c9d1b5ef8a0522d3be0182d0a008ec409b2b3d"
   }
  }
 },
 "nbformat": 4,
 "nbformat_minor": 2
}
