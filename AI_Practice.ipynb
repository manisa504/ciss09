{
  "nbformat": 4,
  "nbformat_minor": 0,
  "metadata": {
    "colab": {
      "provenance": [],
      "authorship_tag": "ABX9TyP0+k30mWRkb96MkAbKUeto",
      "include_colab_link": true
    },
    "kernelspec": {
      "name": "python3",
      "display_name": "Python 3"
    },
    "language_info": {
      "name": "python"
    }
  },
  "cells": [
    {
      "cell_type": "markdown",
      "metadata": {
        "id": "view-in-github",
        "colab_type": "text"
      },
      "source": [
        "<a href=\"https://colab.research.google.com/github/manisa504/manisha/blob/main/AI_Practice.ipynb\" target=\"_parent\"><img src=\"https://colab.research.google.com/assets/colab-badge.svg\" alt=\"Open In Colab\"/></a>"
      ]
    },
    {
      "cell_type": "code",
      "execution_count": 1,
      "metadata": {
        "colab": {
          "base_uri": "https://localhost:8080/"
        },
        "id": "IwGK1TGl9NDM",
        "outputId": "61277e30-f84f-45a9-80e9-139026552a84"
      },
      "outputs": [
        {
          "output_type": "stream",
          "name": "stdout",
          "text": [
            "What is TensorFlow?\n",
            "TensorFlow is a framework for numerical computation and large-scale machine learning.\n",
            "It bundles together machine learning and deep learning models and algorithms to make them useful.\n",
            "Several companies use TensorFlow for applications like improving search engines, translation, image captioning, and more.\n",
            "Airbnb - Applies machine learning using TensorFlow to classify images and detect objects at scale, improving the guest experience.\n",
            "GE Healthcare - Uses TensorFlow to train a neural network for identifying specific anatomical features in brain MRI exams to improve speed and reliability.\n",
            "PayPal - Utilizes TensorFlow deep learning for fraud detection, recognizing complex fraud patterns while increasing precision in identifying legitimate users.\n",
            "China Mobile - Uses TensorFlow to improve the success rate of network element cut overs and automated prediction of cut over time window and network anomalies detection.\n",
            "TensorFlow Features:\n",
            "- Multiple levels of abstractions for different needs.\n",
            "- High-level Keras API for easy model building and training.\n",
            "- Eager execution for immediate iteration and debugging.\n",
            "- Support for training and deploying models in different languages and platforms.\n",
            "- Flexibility and control with Keras functional API and model subclassing.\n",
            "- Ecosystem of powerful add-on libraries and models.\n",
            "TensorFlow Tensors:\n",
            "TensorFlow uses tensors (vectors or matrices of n dimensions) to perform all computations. Operations are conducted inside a data flow graph, where nodes represent mathematical operations and edges represent data arrays.\n",
            "Simplicity in TensorFlow:\n",
            "TensorFlow makes machine learning processes simple and easy, with only a few lines of code needed for tasks like building, training, evaluating, and predicting with neural networks.\n",
            "TensorFlow Comparison:\n",
            "TensorFlow competes with other frameworks like PyTorch, CNTK, and Apache MXNet. It stands out due to its open-source nature, vast community support, and its ability to handle complex workflows and larger projects.\n"
          ]
        }
      ],
      "source": [
        "import tensorflow as tf\n",
        "\n",
        "# Function to demonstrate the use of TensorFlow in various industries\n",
        "def tensorflow_in_industries():\n",
        "    companies = {\n",
        "        'Airbnb': 'Applies machine learning using TensorFlow to classify images and detect objects at scale, improving the guest experience.',\n",
        "        'GE Healthcare': 'Uses TensorFlow to train a neural network for identifying specific anatomical features in brain MRI exams to improve speed and reliability.',\n",
        "        'PayPal': 'Utilizes TensorFlow deep learning for fraud detection, recognizing complex fraud patterns while increasing precision in identifying legitimate users.',\n",
        "        'China Mobile': 'Uses TensorFlow to improve the success rate of network element cut overs and automated prediction of cut over time window and network anomalies detection.',\n",
        "    }\n",
        "\n",
        "    for company, application in companies.items():\n",
        "        print(f\"{company} - {application}\")\n",
        "\n",
        "# Function to describe TensorFlow features\n",
        "def tensorflow_features():\n",
        "    features = [\n",
        "        \"Multiple levels of abstractions for different needs.\",\n",
        "        \"High-level Keras API for easy model building and training.\",\n",
        "        \"Eager execution for immediate iteration and debugging.\",\n",
        "        \"Support for training and deploying models in different languages and platforms.\",\n",
        "        \"Flexibility and control with Keras functional API and model subclassing.\",\n",
        "        \"Ecosystem of powerful add-on libraries and models.\",\n",
        "    ]\n",
        "\n",
        "    print(\"TensorFlow Features:\")\n",
        "    for feature in features:\n",
        "        print(\"- \" + feature)\n",
        "\n",
        "# Function to describe TensorFlow's computation using tensors\n",
        "def tensorflow_tensors():\n",
        "    tensor_description = \"TensorFlow uses tensors (vectors or matrices of n dimensions) to perform all computations. Operations are conducted inside a data flow graph, where nodes represent mathematical operations and edges represent data arrays.\"\n",
        "\n",
        "    print(\"TensorFlow Tensors:\")\n",
        "    print(tensor_description)\n",
        "\n",
        "# Function to describe the simplicity of using TensorFlow for machine learning\n",
        "def tensorflow_simplicity():\n",
        "    simplicity_description = \"TensorFlow makes machine learning processes simple and easy, with only a few lines of code needed for tasks like building, training, evaluating, and predicting with neural networks.\"\n",
        "\n",
        "    print(\"Simplicity in TensorFlow:\")\n",
        "    print(simplicity_description)\n",
        "\n",
        "# Function to compare TensorFlow with other machine learning frameworks\n",
        "def tensorflow_comparison():\n",
        "    comparison_description = \"TensorFlow competes with other frameworks like PyTorch, CNTK, and Apache MXNet. It stands out due to its open-source nature, vast community support, and its ability to handle complex workflows and larger projects.\"\n",
        "\n",
        "    print(\"TensorFlow Comparison:\")\n",
        "    print(comparison_description)\n",
        "\n",
        "# Main function to execute the code\n",
        "if __name__ == \"__main__\":\n",
        "    print(\"What is TensorFlow?\")\n",
        "    print(\"TensorFlow is a framework for numerical computation and large-scale machine learning.\")\n",
        "    print(\"It bundles together machine learning and deep learning models and algorithms to make them useful.\")\n",
        "    print(\"Several companies use TensorFlow for applications like improving search engines, translation, image captioning, and more.\")\n",
        "\n",
        "    tensorflow_in_industries()\n",
        "    tensorflow_features()\n",
        "    tensorflow_tensors()\n",
        "    tensorflow_simplicity()\n",
        "    tensorflow_comparison()\n"
      ]
    }
  ]
}