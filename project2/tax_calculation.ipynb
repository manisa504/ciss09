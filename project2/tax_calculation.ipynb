{
 "cells": [
  {
   "cell_type": "code",
   "execution_count": null,
   "metadata": {},
   "outputs": [],
   "source": [
    "def main(propertyValue):\n",
    "\n",
    "# Tax rate of property\n",
    "tax = 0.72\n",
    "# this line of code will calculate the assessment value of property\n",
    "assessedValue = float(propertyValue) * 0.6\n",
    "# This line of cade will calculate the total property tax.\n",
    "taxOwed = (assessedValue/100) * tax\n",
    "#This line of code will call the displayOutput function\n",
    "displayOutput(assessedValue, taxOwed)\n",
    "def displayOutput(assessedValue, taxOwed):\n",
    "# using “{:,.2f}”.format()” round up to two decimal places and display message in output.\n",
    "print(\"Assessed Value: $\",'{0:,.2f}'.format(assessedValue),\n",
    "'\\n'\"Property Tax: $\" ,'{0:,.2f}'.format(taxOwed))\n",
    "\n",
    "#This line of code calling the main function.\n",
    "if name == 'main':\n",
    "taxPay = int(input('Enter the actual value of property : '))\n",
    "main(taxPay)\n"
   ]
  }
 ],
 "metadata": {
  "kernelspec": {
   "display_name": "Python 3.9.13 ('myenv')",
   "language": "python",
   "name": "python3"
  },
  "language_info": {
   "name": "python",
   "version": "3.9.13"
  },
  "orig_nbformat": 4,
  "vscode": {
   "interpreter": {
    "hash": "e47b1a34c05c1e3b83a62d7885c9d1b5ef8a0522d3be0182d0a008ec409b2b3d"
   }
  }
 },
 "nbformat": 4,
 "nbformat_minor": 2
}
