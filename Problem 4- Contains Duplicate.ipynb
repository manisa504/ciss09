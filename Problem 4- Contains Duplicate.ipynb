{
 "cells": [
  {
   "attachments": {},
   "cell_type": "markdown",
   "metadata": {},
   "source": [
    "we use a set data structure to keep track of unique elements as we iterate through the input list nums. If we encounter an element that is already in the hashset, we return True indicating that there is a duplicate. Otherwise, we add the element to the hashset and continue iterating. If we complete the iteration without finding any duplicates, we return False.\n",
    "'''# Problem 4: Contains Duplicate\n",
    "\n",
    "## Problem Statement\n",
    "Given an integer array `nums`, return `true` if any value appears at least twice in the array, and return `false` if every element is distinct.\n",
    "\n",
    "## Python Solution\n",
    "\n",
    "```python\n",
    "class Solution:\n",
    "    def containsDuplicate(self, nums: list[int]) -> bool:\n",
    "        hashset = set()\n",
    "        \n",
    "        for n in nums:\n",
    "            if n in hashset:\n",
    "                return True\n",
    "            hashset.add(n)\n",
    "        return False\n",
    "'''"
   ]
  },
  {
   "cell_type": "code",
   "execution_count": 1,
   "metadata": {},
   "outputs": [],
   "source": [
    "#Problem 4\n",
    "#217- Contains duplicate\n",
    "#Give an integer array nums, return true if any value appears at least twicw in the array, and return dalse if every element is distinct\n",
    "class solution:\n",
    "    def containsDuplicate(self, nums: list[int]) -> bool:\n",
    "        hashset = set()\n",
    "        \n",
    "        for n in nums:\n",
    "            if n in hashset:\n",
    "                return True\n",
    "            hash.set.add(n)\n",
    "        return False\n",
    "        \n"
   ]
  }
 ],
 "metadata": {
  "kernelspec": {
   "display_name": "Python 3",
   "language": "python",
   "name": "python3"
  },
  "language_info": {
   "codemirror_mode": {
    "name": "ipython",
    "version": 3
   },
   "file_extension": ".py",
   "mimetype": "text/x-python",
   "name": "python",
   "nbconvert_exporter": "python",
   "pygments_lexer": "ipython3",
   "version": "3.9.13"
  },
  "orig_nbformat": 4,
  "vscode": {
   "interpreter": {
    "hash": "e47b1a34c05c1e3b83a62d7885c9d1b5ef8a0522d3be0182d0a008ec409b2b3d"
   }
  }
 },
 "nbformat": 4,
 "nbformat_minor": 2
}
