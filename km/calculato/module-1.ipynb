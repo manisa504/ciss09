{
 "cells": [
  {
   "cell_type": "code",
   "execution_count": null,
   "metadata": {},
   "outputs": [],
   "source": [
    "import tkinter as tk                                                             # Importing tkinter module\n",
    "import tkinter.ttk as ttk                                                         # Importing ttk module\n",
    "\n",
    "class SimpleCalculatoApp:                                                         # Creating a class for Simple Calculator App\n",
    "    def __init__(self, parent):                                                   # Initializing function\n",
    "        top_level = ttk.Frame(parent, padding=10)                                  # Creating frame for the top level with padding of 10\n",
    "\n",
    "        top_level = ttk.Frame(parent)                                              # Creating frame for the top level\n",
    "        top_level.grid(column=0, row=0)                                            # Positioning the frame in column 0 and row 0\n",
    "\n",
    "        header_label = ttk.Label(top_level, text=\"Kilometers to mile conversion\", font = 40)   # Creating label for the header\n",
    "        header_label.grid(column=0, row=0, sticky=\"nsew\")                          # Positioning the label in column 0, row 0, and making it sticky in all directions\n",
    "\n",
    "        input_frame = ttk.Frame(top_level, padding=15)                             # Creating frame for input with padding of 15\n",
    "        input_frame.grid(column=0, row=1)                                            # Positioning the frame in column 0 and row 1\n",
    "        km_label = ttk.Label(input_frame, text=\"KM:\")                              # Creating label for kilometers\n",
    "        km_entry = ttk.Entry(input_frame)                                          # Creating entry for kilometers\n",
    "        km_label.grid(column=0, row=0, sticky=\"e\")                                 # Positioning the label in column 0, row 0 and making it sticky on the east\n",
    "        km_entry.grid(column=1, row=0, pady=5)                                    # Positioning the entry in column 1, row 0 and adding padding of 5\n",
    "\n",
    "        button_frame = ttk.Frame(top_level)                                        # Creating frame for buttons\n",
    "        button_frame.grid(column=0, row=2, sticky=\"e\")                             # Positioning the frame in column 0, row 2 and making it sticky on the east\n",
    "        clear_button = ttk.Button(button_frame, text=\"clear\", command=self.clear)  # Creating clear button and assigning the command clear\n",
    "        ok_button = ttk.Button(button_frame,text=\"OK\", command=self.calculate)     # Creating ok button and assigning the command calculate\n",
    "        clear_button.grid(column=0, row=0, padx=4)                                # Positioning the clear button in column 0, row 0 and adding padding of 4\n",
    "        ok_button.grid(column=1, row=0)                                            # Positioning the ok button in column 1, row 0\n",
    "\n",
    "        self.mainwindow = top_level                                                # Assigning top_level to mainwindow\n",
    "        self.km_entry = km_entry                                                   # Assigning km_entry to km_entry\n",
    "\n",
    "    def clear(self):                                                               # Function to clear the entries\n",
    "        self.km_entry.delete(0,tk.END)                                             # Deleting the contents of km_entry\n",
    "\n",
    "    def show_answer(self, parent, text):                                           # Function to show the answer\n",
    "        root_frame = ttk.Frame(parent, padding=11)                                \n"
   ]
  }
 ],
 "metadata": {
  "language_info": {
   "name": "python"
  },
  "orig_nbformat": 4
 },
 "nbformat": 4,
 "nbformat_minor": 2
}
