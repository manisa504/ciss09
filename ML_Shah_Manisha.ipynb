{
  "nbformat": 4,
  "nbformat_minor": 0,
  "metadata": {
    "colab": {
      "provenance": [],
      "toc_visible": true,
      "authorship_tag": "ABX9TyPdNcRkTOZ1fs8w+ssfPV6S",
      "include_colab_link": true
    },
    "kernelspec": {
      "name": "python3",
      "display_name": "Python 3"
    },
    "language_info": {
      "name": "python"
    }
  },
  "cells": [
    {
      "cell_type": "markdown",
      "metadata": {
        "id": "view-in-github",
        "colab_type": "text"
      },
      "source": [
        "<a href=\"https://colab.research.google.com/github/manisa504/manisha/blob/main/ML_Shah_Manisha.ipynb\" target=\"_parent\"><img src=\"https://colab.research.google.com/assets/colab-badge.svg\" alt=\"Open In Colab\"/></a>"
      ]
    },
    {
      "cell_type": "code",
      "execution_count": 3,
      "metadata": {
        "id": "tXXpUWcCABH7"
      },
      "outputs": [],
      "source": [
        "#import necessary modules\n",
        "import pandas as pd\n",
        "from sklearn.tree import DecisionTreeClassifier\n",
        "from sklearn.model_selection import train_test_split\n",
        "from sklearn.metrics import accuracy_score\n",
        "from sklearn import tree"
      ]
    },
    {
      "cell_type": "code",
      "source": [
        "# load the data\n",
        "music_data = pd.read_csv('/content/sample_data/music.csv')\n",
        "music_data"
      ],
      "metadata": {
        "id": "T_QdS98-HNcQ"
      },
      "execution_count": null,
      "outputs": []
    },
    {
      "cell_type": "code",
      "source": [
        "\n",
        "# separate features and target\n",
        "x =  music_data.drop(columns=['genre'])\n",
        "y = music_data['genre']"
      ],
      "metadata": {
        "id": "lwMDADECH9QD"
      },
      "execution_count": null,
      "outputs": []
    },
    {
      "cell_type": "code",
      "source": [
        "# create a decision tree model and train it\n",
        "model = DecisionTreeClassifier()\n",
        "model.fit(x, y)\n",
        "\n",
        "# make predictions for two hypothetical users\n",
        "predictions = model.predict([[21,1],[22,0]])\n",
        "print(predictions)\n"
      ],
      "metadata": {
        "id": "gOjJvyrTIEcn"
      },
      "execution_count": null,
      "outputs": []
    },
    {
      "cell_type": "code",
      "source": [
        "# split the data into training and test sets\n",
        "x_train, x_test, y_train, y_test = train_test_split(x, y, test_size=0.2)\n",
        "\n",
        "# retrain the model on the training data\n",
        "model.fit(x_train, y_train)\n",
        "\n",
        "# make predictions on the test data\n",
        "predictions = model.predict(x_test)"
      ],
      "metadata": {
        "id": "rpVzK3waIGwh"
      },
      "execution_count": null,
      "outputs": []
    },
    {
      "cell_type": "code",
      "source": [
        "# calculate and print the accuracy score\n",
        "score = accuracy_score(y_test, predictions)\n",
        "print(score)\n",
        "\n",
        "# export the trained decision tree for visualization\n",
        "tree.export_graphviz(model, out_file=\"music_recommender.dot\", feature_names=['age','gender'], class_names=sorted(y.unique()), label=\"all\", rounded=True, filled=True)"
      ],
      "metadata": {
        "id": "JI0y6GQsIJXc"
      },
      "execution_count": null,
      "outputs": []
    }
  ]
}