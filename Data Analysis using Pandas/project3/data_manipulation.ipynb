{
 "cells": [
  {
   "cell_type": "code",
   "execution_count": null,
   "metadata": {},
   "outputs": [],
   "source": [
    "#Import pandas and NumPy packages\n",
    "import pandas as pd\n",
    "import numpy as np\n",
    "\n",
    "#Create a list that contains \"id\" and a dictionary containing other sets of data, such as \"name,\" \"score,\" \"attempt,\" and \"pass/fail.\"\n",
    "id_list = ['a','b','c','d','e','f','g','h','i','j']\n",
    "dict = {'name':['Yuan','David','Margaret','Daniel','Gina','Catherine','Chris','Jaeki','Ethan','Murphy'],\n",
    "'score':[12.5,9,16.5,'N/A',9,20,14.5,'N/A',8,19],\n",
    "'attempt':[1,3,2,3,2,3,1,1,2,1],\n",
    "'pass/fail':['Yes','No','Yes','No','No','Yes','Yes','No','No,','Yes']}\n",
    "\n",
    "#Create a data frame by taking the dictionary and the list (as the index)\n",
    "df1 = pd.DataFrame(dict, index = id_list)\n",
    "\n",
    "#Display the first 10 rows of the dataframe\n",
    "df1.head(10)\n",
    "\n",
    "#Select and display the 'name' and 'score' columns of the records (rows) of 1, 3, 5, and 6 from the data frame.\n",
    "Name = df1.iloc[[0,2,4,5],0:2]\n",
    "Name.head()\n",
    "\n",
    "#Select and display the rows where the number of attempts is greater than 2.\n",
    "attempt = df1[df1.attempt > 2]\n",
    "attempt\n",
    "\n",
    "#Then, select and display the rows where the score is missing (‘N/A’).\n",
    "score1 = df1[df1.score == 'N/A']\n",
    "score1\n",
    "\n",
    "#Also, display the records that hold both conditions.\n",
    "df1[(df1.attempt > 2) & (df1.score == 'N/A')]\n",
    "\n",
    "#Append the new record \"k\" to the data frame with the given values of each column as name: 'Song,' score: '15.5', attempt: '1', and pass/fail: 'yes.'\n",
    "list2 =['k']\n",
    "dict1 = {\n",
    "'name':['Song'],\n",
    "'score':[15.5],\n",
    "'attempt':[1],\n",
    "'pass/fail':['Yes']}\n",
    "\n",
    "#Create a new dataframe from the above dictionary and index and display it\n",
    "df2 = pd.DataFrame(dict1,index=list2)\n",
    "df2.head()\n",
    "\n",
    "#Append the new dataframe to the old one\n",
    "df1.append(df2)\n",
    "\n",
    "#After appending the new record, delete the record of 'h' from the data frame.\n",
    "df3 = df1.drop(index='h')\n",
    "df3\n",
    "\n",
    "#Replace values of 'yes' and 'no' in 'pass/fail' column with 'pass' and 'fail' and display new the data frame.\n",
    "df4 = df3.replace(to_replace='Yes',value='pass')\n",
    "df5 = df3.replace(to_replace='No',value='fail')\n",
    "df5\n"
   ]
  }
 ],
 "metadata": {
  "kernelspec": {
   "display_name": "Python 3.10.7 64-bit",
   "language": "python",
   "name": "python3"
  },
  "language_info": {
   "name": "python",
   "version": "3.10.7"
  },
  "orig_nbformat": 4,
  "vscode": {
   "interpreter": {
    "hash": "aee8b7b246df8f9039afb4144a1f6fd8d2ca17a180786b69acc140d282b71a49"
   }
  }
 },
 "nbformat": 4,
 "nbformat_minor": 2
}
